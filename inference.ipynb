{
 "cells": [
  {
   "cell_type": "code",
   "execution_count": 1,
   "metadata": {
    "scrolled": true
   },
   "outputs": [
    {
     "name": "stderr",
     "output_type": "stream",
     "text": [
      "c:\\Users\\bscharnagl\\anaconda3\\envs\\fittingathome\\Lib\\site-packages\\tqdm\\auto.py:21: TqdmWarning: IProgress not found. Please update jupyter and ipywidgets. See https://ipywidgets.readthedocs.io/en/stable/user_install.html\n",
      "  from .autonotebook import tqdm as notebook_tqdm\n"
     ]
    },
    {
     "name": "stdout",
     "output_type": "stream",
     "text": [
      "No module 'xformers'. Proceeding without it.\n",
      "ControlLDM: Running in eps-prediction mode\n",
      "DiffusionWrapper has 859.52 M params.\n",
      "making attention of type 'vanilla' with 512 in_channels\n",
      "Working with z of shape (1, 4, 32, 32) = 4096 dimensions.\n",
      "making attention of type 'vanilla' with 512 in_channels\n"
     ]
    },
    {
     "name": "stderr",
     "output_type": "stream",
     "text": [
      "d:\\Repos\\size_aware_tryon\\model\\ldm\\models\\diffusion\\ddpm.py:624: FutureWarning: You are using `torch.load` with `weights_only=False` (the current default value), which uses the default pickle module implicitly. It is possible to construct malicious pickle data which will execute arbitrary code during unpickling (See https://github.com/pytorch/pytorch/blob/main/SECURITY.md#untrusted-models for more details). In a future release, the default value for `weights_only` will be flipped to `True`. This limits the functions that could be executed during unpickling. Arbitrary objects will no longer be allowed to be loaded via this mode unless they are explicitly allowlisted by the user via `torch.serialization.add_safe_globals`. We recommend you start setting `weights_only=True` for any use case where you don't have full control of the loaded file. Please open an issue on GitHub for any issues related to this experimental feature.\n",
      "  model.load_state_dict(torch.load(ckpt, map_location=\"cpu\")[\"state_dict\"], strict=False)\n"
     ]
    },
    {
     "name": "stdout",
     "output_type": "stream",
     "text": [
      "First Stage restored from checkpoints/vae-ft-mse-840000-ema-pruned.ckpt\n"
     ]
    },
    {
     "name": "stderr",
     "output_type": "stream",
     "text": [
      "c:\\Users\\bscharnagl\\anaconda3\\envs\\fittingathome\\Lib\\site-packages\\transformers\\tokenization_utils_base.py:1601: FutureWarning: `clean_up_tokenization_spaces` was not set. It will be set to `True` by default. This behavior will be depracted in transformers v4.45, and will be then set to `False` by default. For more details check this issue: https://github.com/huggingface/transformers/issues/31884\n",
      "  warnings.warn(\n",
      "d:\\Repos\\size_aware_tryon\\model\\cldm\\model.py:18: FutureWarning: You are using `torch.load` with `weights_only=False` (the current default value), which uses the default pickle module implicitly. It is possible to construct malicious pickle data which will execute arbitrary code during unpickling (See https://github.com/pytorch/pytorch/blob/main/SECURITY.md#untrusted-models for more details). In a future release, the default value for `weights_only` will be flipped to `True`. This limits the functions that could be executed during unpickling. Arbitrary objects will no longer be allowed to be loaded via this mode unless they are explicitly allowlisted by the user via `torch.serialization.add_safe_globals`. We recommend you start setting `weights_only=True` for any use case where you don't have full control of the loaded file. Please open an issue on GitHub for any issues related to this experimental feature.\n",
      "  state_dict = get_state_dict(torch.load(ckpt_path, map_location=torch.device(location)))\n"
     ]
    },
    {
     "name": "stdout",
     "output_type": "stream",
     "text": [
      "Loaded state_dict from [checkpoints/epoch=32-step=124938-v1.ckpt]\n"
     ]
    }
   ],
   "source": [
    "from omegaconf import OmegaConf\n",
    "import torch\n",
    "from utils.utils import instantiate_from_config\n",
    "from model.cldm.model import load_state_dict\n",
    "import os\n",
    "import random\n",
    "\n",
    "config_path = \"configs/v1.yaml\"\n",
    "\n",
    "config = OmegaConf.load(config_path)\n",
    "\n",
    "model = instantiate_from_config(config.model)\n",
    "model.load_state_dict(load_state_dict(\"checkpoints/epoch=32-step=124938-v1.ckpt\", \"cpu\"), strict=False)\n",
    "model = model.cuda()"
   ]
  },
  {
   "cell_type": "code",
   "execution_count": null,
   "metadata": {},
   "outputs": [
    {
     "name": "stdout",
     "output_type": "stream",
     "text": [
      "013582\n",
      "torch.Size([1, 1, 64, 64]) tensor(-1., device='cuda:0') tensor(1., device='cuda:0')\n",
      "Data shape for DDIM sampling is (1, 4, 64, 64), eta 0.0\n",
      "Running DDIM Sampling with 50 timesteps\n"
     ]
    },
    {
     "name": "stderr",
     "output_type": "stream",
     "text": [
      "DDIM Sampler: 100%|██████████| 50/50 [02:29<00:00,  2.99s/it]\n"
     ]
    },
    {
     "name": "stdout",
     "output_type": "stream",
     "text": [
      "Data shape for DDIM sampling is (1, 4, 64, 64), eta 0.0\n",
      "Running DDIM Sampling with 50 timesteps\n"
     ]
    },
    {
     "name": "stderr",
     "output_type": "stream",
     "text": [
      "DDIM Sampler: 100%|██████████| 50/50 [05:02<00:00,  6.05s/it]\n"
     ]
    },
    {
     "name": "stdout",
     "output_type": "stream",
     "text": [
      "torch.Size([1, 1, 64, 64]) tensor(-1., device='cuda:0') tensor(1., device='cuda:0')\n",
      "Data shape for DDIM sampling is (1, 4, 64, 64), eta 0.0\n",
      "Running DDIM Sampling with 50 timesteps\n"
     ]
    },
    {
     "name": "stderr",
     "output_type": "stream",
     "text": [
      "DDIM Sampler: 100%|██████████| 50/50 [02:29<00:00,  2.99s/it]\n"
     ]
    },
    {
     "name": "stdout",
     "output_type": "stream",
     "text": [
      "Data shape for DDIM sampling is (1, 4, 64, 64), eta 0.0\n",
      "Running DDIM Sampling with 50 timesteps\n"
     ]
    },
    {
     "name": "stderr",
     "output_type": "stream",
     "text": [
      "DDIM Sampler: 100%|██████████| 50/50 [05:02<00:00,  6.04s/it]\n"
     ]
    },
    {
     "name": "stdout",
     "output_type": "stream",
     "text": [
      "torch.Size([1, 1, 64, 64]) tensor(-1., device='cuda:0') tensor(1., device='cuda:0')\n",
      "Data shape for DDIM sampling is (1, 4, 64, 64), eta 0.0\n",
      "Running DDIM Sampling with 50 timesteps\n"
     ]
    },
    {
     "name": "stderr",
     "output_type": "stream",
     "text": [
      "DDIM Sampler: 100%|██████████| 50/50 [02:30<00:00,  3.01s/it]\n"
     ]
    },
    {
     "name": "stdout",
     "output_type": "stream",
     "text": [
      "Data shape for DDIM sampling is (1, 4, 64, 64), eta 0.0\n",
      "Running DDIM Sampling with 50 timesteps\n"
     ]
    },
    {
     "name": "stderr",
     "output_type": "stream",
     "text": [
      "DDIM Sampler: 100%|██████████| 50/50 [04:58<00:00,  5.97s/it]\n"
     ]
    },
    {
     "name": "stdout",
     "output_type": "stream",
     "text": [
      "013583\n",
      "torch.Size([1, 1, 64, 64]) tensor(-1., device='cuda:0') tensor(1., device='cuda:0')\n",
      "Data shape for DDIM sampling is (1, 4, 64, 64), eta 0.0\n",
      "Running DDIM Sampling with 50 timesteps\n"
     ]
    },
    {
     "name": "stderr",
     "output_type": "stream",
     "text": [
      "DDIM Sampler: 100%|██████████| 50/50 [02:30<00:00,  3.02s/it]\n"
     ]
    },
    {
     "name": "stdout",
     "output_type": "stream",
     "text": [
      "Data shape for DDIM sampling is (1, 4, 64, 64), eta 0.0\n",
      "Running DDIM Sampling with 50 timesteps\n"
     ]
    },
    {
     "name": "stderr",
     "output_type": "stream",
     "text": [
      "DDIM Sampler: 100%|██████████| 50/50 [05:22<00:00,  6.45s/it]\n"
     ]
    },
    {
     "name": "stdout",
     "output_type": "stream",
     "text": [
      "torch.Size([1, 1, 64, 64]) tensor(-1., device='cuda:0') tensor(1., device='cuda:0')\n",
      "Data shape for DDIM sampling is (1, 4, 64, 64), eta 0.0\n",
      "Running DDIM Sampling with 50 timesteps\n"
     ]
    },
    {
     "name": "stderr",
     "output_type": "stream",
     "text": [
      "DDIM Sampler: 100%|██████████| 50/50 [02:41<00:00,  3.23s/it]\n"
     ]
    },
    {
     "name": "stdout",
     "output_type": "stream",
     "text": [
      "Data shape for DDIM sampling is (1, 4, 64, 64), eta 0.0\n",
      "Running DDIM Sampling with 50 timesteps\n"
     ]
    },
    {
     "name": "stderr",
     "output_type": "stream",
     "text": [
      "DDIM Sampler: 100%|██████████| 50/50 [05:27<00:00,  6.55s/it]\n"
     ]
    },
    {
     "name": "stdout",
     "output_type": "stream",
     "text": [
      "torch.Size([1, 1, 64, 64]) tensor(-1., device='cuda:0') tensor(1., device='cuda:0')\n",
      "Data shape for DDIM sampling is (1, 4, 64, 64), eta 0.0\n",
      "Running DDIM Sampling with 50 timesteps\n"
     ]
    },
    {
     "name": "stderr",
     "output_type": "stream",
     "text": [
      "DDIM Sampler: 100%|██████████| 50/50 [02:30<00:00,  3.01s/it]\n"
     ]
    },
    {
     "name": "stdout",
     "output_type": "stream",
     "text": [
      "Data shape for DDIM sampling is (1, 4, 64, 64), eta 0.0\n",
      "Running DDIM Sampling with 50 timesteps\n"
     ]
    },
    {
     "name": "stderr",
     "output_type": "stream",
     "text": [
      "DDIM Sampler:   4%|▍         | 2/50 [00:11<04:47,  5.99s/it]"
     ]
    }
   ],
   "source": [
    "from utils.utils import read_image, read_keypoints, draw_pose, draw_landmarks\n",
    "import numpy as np\n",
    "import cv2\n",
    "from torchvision.utils import save_image\n",
    "\n",
    "prompt = \"model posing\"\n",
    "\n",
    "root = \"sample_images\"\n",
    "\n",
    "fk_jsons = os.listdir(os.path.join(root, \"fashion_keypoints_posed\"))\n",
    "hk_jsons = os.listdir(os.path.join(root, \"human_keypoints_posed\"))\n",
    "\n",
    "offsets = [0.0,30,-30]\n",
    "\n",
    "for i in fk_jsons:\n",
    "    id = i[:-7]\n",
    "    print(id)\n",
    "    for offset in offsets:\n",
    "        fk_tensor = read_keypoints(root, \"fashion_keypoints_posed\", id)\n",
    "        hk_tensor = read_keypoints(root, \"human_keypoints_posed\", id)\n",
    "    \n",
    "        blank_image = np.zeros((1024,768,3), np.uint8)\n",
    "        img,m_r,m_l = draw_pose(blank_image, hk_tensor)\n",
    "        img = draw_landmarks(img, fk_tensor, offset, m_r, m_l)\n",
    "        cv2.imwrite(root+\"/output/\"+str(id)+\"_keypoints_\"+str(offset)+\".png\", img)\n",
    "\n",
    "        batch = {\n",
    "            \"txt\": prompt,\n",
    "            \"human_image\": read_image(root+\"/human_image/\"+id+\"_0.jpg\", (512,512)),\n",
    "            \"keypoints_vis\": read_image(root+\"/output/\"+str(id)+\"_keypoints_\"+str(offset)+\".png\", (512,512)),\n",
    "            \"mask\": read_image(root+\"/cloth_agnostic_mask/\"+id+\"_0.png\", (64,64)),\n",
    "        }\n",
    "\n",
    "        from torch.utils.data import default_collate\n",
    "        for k in batch.keys():\n",
    "            batch[k] = default_collate(batch[k])\n",
    "            if isinstance(batch[k], torch.Tensor):\n",
    "                batch[k] = batch[k].unsqueeze(0).cuda()\n",
    "            else:\n",
    "                batch[k] = [batch[k]]\n",
    "        \n",
    "        images = model.log_images(batch)\n",
    "\n",
    "        for k in images:\n",
    "            if k == \"reconstruction\" or k == \"control\":\n",
    "                continue\n",
    "            images[k] = (images[k] + 1.0) / 2.0\n",
    "            batch[\"keypoints_vis\"][0] = (batch[\"keypoints_vis\"][0] + 1.0) / 2.0\n",
    "            \n",
    "            save_image(images[k], root+\"/output/\"+str(id)+\"_\"+k+\"_\"+str(offset)+\".jpg\")"
   ]
  },
  {
   "cell_type": "code",
   "execution_count": null,
   "metadata": {},
   "outputs": [],
   "source": []
  }
 ],
 "metadata": {
  "kernelspec": {
   "display_name": "fittingathome",
   "language": "python",
   "name": "python3"
  },
  "language_info": {
   "codemirror_mode": {
    "name": "ipython",
    "version": 3
   },
   "file_extension": ".py",
   "mimetype": "text/x-python",
   "name": "python",
   "nbconvert_exporter": "python",
   "pygments_lexer": "ipython3",
   "version": "3.12.5"
  },
  "widgets": {
   "application/vnd.jupyter.widget-state+json": {
    "state": {},
    "version_major": 2,
    "version_minor": 0
   }
  }
 },
 "nbformat": 4,
 "nbformat_minor": 4
}
